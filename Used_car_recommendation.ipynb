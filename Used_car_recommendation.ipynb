{
 "cells": [
  {
   "cell_type": "markdown",
   "metadata": {},
   "source": [
    "# What drives the price of a car?\n",
    "\n",
    "![](images/kurt.jpeg)"
   ]
  },
  {
   "cell_type": "markdown",
   "metadata": {},
   "source": [
    "**OVERVIEW**\n",
    "\n",
    "In this application, you will explore a dataset from Kaggle. The original dataset contained information on 3 million used cars. The provided dataset contains information on 426K cars to ensure speed of processing.  Your goal is to understand what factors make a car more or less expensive.  As a result of your analysis, you should provide clear recommendations to your client -- a used car dealership -- as to what consumers value in a used car."
   ]
  },
  {
   "cell_type": "markdown",
   "metadata": {},
   "source": [
    "### CRISP-DM Framework\n",
    "\n",
    "<center>\n",
    "    <img src = images/crisp.png width = 50%/>\n",
    "</center>\n",
    "\n",
    "\n",
    "To frame the task, throughout our practical applications, we will refer back to a standard process in industry for data projects called CRISP-DM.  This process provides a framework for working through a data problem.  Your first step in this application will be to read through a brief overview of CRISP-DM [here](https://mo-pcco.s3.us-east-1.amazonaws.com/BH-PCMLAI/module_11/readings_starter.zip).  After reading the overview, answer the questions below."
   ]
  },
  {
   "cell_type": "markdown",
   "metadata": {},
   "source": [
    "### Business Understanding\n",
    "\n",
    "From a business perspective, we are tasked with identifying key drivers for used car prices.  In the CRISP-DM overview, we are asked to convert this business framing to a data problem definition.  Using a few sentences, reframe the task as a data task with the appropriate technical vocabulary. "
   ]
  },
  {
   "cell_type": "code",
   "execution_count": 6,
   "metadata": {},
   "outputs": [
    {
     "name": "stdout",
     "output_type": "stream",
     "text": [
      "1. The data task involves cleaning and preprocessing the dataset.\n"
     ]
    }
   ],
   "source": [
    "print(\"1. The data task involves cleaning and preprocessing the dataset.\")"
   ]
  },
  {
   "cell_type": "code",
   "execution_count": 8,
   "metadata": {},
   "outputs": [
    {
     "name": "stdout",
     "output_type": "stream",
     "text": [
      "2. Encode the data if required.\n"
     ]
    }
   ],
   "source": [
    "print(\"2. Encode the data if required.\")"
   ]
  },
  {
   "cell_type": "code",
   "execution_count": 10,
   "metadata": {},
   "outputs": [
    {
     "name": "stdout",
     "output_type": "stream",
     "text": [
      "3. Performing exploratory data analysis (EDA), feature engineering , and training regression models to predict  the price of the car and which featuer impacts the price.\n"
     ]
    }
   ],
   "source": [
    "print(\"3. Performing exploratory data analysis (EDA), feature engineering , and training regression models to predict  the price of the car and which featuer impacts the price.\")"
   ]
  },
  {
   "cell_type": "code",
   "execution_count": 12,
   "metadata": {},
   "outputs": [
    {
     "name": "stdout",
     "output_type": "stream",
     "text": [
      "4. Check the health and assess the accuracy of the model using Mean Square Error.\n"
     ]
    }
   ],
   "source": [
    "print(\"4. Check the health and assess the accuracy of the model using Mean Square Error.\")"
   ]
  },
  {
   "cell_type": "markdown",
   "metadata": {},
   "source": [
    "### Data Understanding\n",
    "\n",
    "After considering the business understanding, we want to get familiar with our data.  Write down some steps that you would take to get to know the dataset and identify any quality issues within.  Take time to get to know the dataset and explore what information it contains and how this could be used to inform your business understanding."
   ]
  },
  {
   "cell_type": "code",
   "execution_count": 15,
   "metadata": {},
   "outputs": [
    {
     "name": "stdout",
     "output_type": "stream",
     "text": [
      "1. Check the missing values or outliers or very less price for a car ,  delete that dataset . eg : I see price is  marked as 0 or a outliers as 3009548743 or car price as $1000.\n"
     ]
    }
   ],
   "source": [
    "print(\"1. Check the missing values or outliers or very less price for a car ,  delete that dataset . eg : I see price is  marked as 0 or a outliers as 3009548743 or car price as $1000.\")"
   ]
  },
  {
   "cell_type": "code",
   "execution_count": 17,
   "metadata": {},
   "outputs": [
    {
     "name": "stdout",
     "output_type": "stream",
     "text": [
      "2. I will consider dataset from 1999 , will eliminate very old cars .\n"
     ]
    }
   ],
   "source": [
    "print(\"2. I will consider dataset from 1999 , will eliminate very old cars .\")"
   ]
  },
  {
   "cell_type": "code",
   "execution_count": 19,
   "metadata": {},
   "outputs": [
    {
     "name": "stdout",
     "output_type": "stream",
     "text": [
      "3. Features with  Condition and Model as empty I will delete because these 2 features I think will play critical role in price prediction.\n"
     ]
    }
   ],
   "source": [
    "print(\"3. Features with  Condition and Model as empty I will delete because these 2 features I think will play critical role in price prediction.\")"
   ]
  },
  {
   "cell_type": "code",
   "execution_count": null,
   "metadata": {},
   "outputs": [],
   "source": []
  },
  {
   "cell_type": "markdown",
   "metadata": {},
   "source": [
    "### Data Preparation\n",
    "\n",
    "After our initial exploration and fine-tuning of the business understanding, it is time to construct our final dataset prior to modeling.  Here, we want to make sure to handle any integrity issues and cleaning, the engineering of new features, any transformations that we believe should happen (scaling, logarithms, normalization, etc.), and general preparation for modeling with `sklearn`. "
   ]
  },
  {
   "cell_type": "code",
   "execution_count": 23,
   "metadata": {},
   "outputs": [],
   "source": [
    "import pandas as pd\n",
    "import numpy as np\n",
    "import matplotlib.pyplot as plt\n",
    "import seaborn as sns\n",
    "from sklearn.model_selection import train_test_split, cross_val_score, GridSearchCV\n",
    "from sklearn.preprocessing import StandardScaler, OneHotEncoder\n",
    "from sklearn.compose import ColumnTransformer\n",
    "from sklearn.pipeline import Pipeline\n",
    "from sklearn.impute import SimpleImputer\n",
    "from sklearn.linear_model import LinearRegression, Ridge, Lasso\n",
    "from sklearn.ensemble import RandomForestRegressor, GradientBoostingRegressor\n",
    "from sklearn.metrics import mean_squared_error, r2_score, mean_absolute_error\n",
    "import warnings\n",
    "warnings.filterwarnings('ignore')\n",
    "\n",
    "# Load the CSV file\n",
    "df_original = pd.read_csv('data/vehicles.csv')"
   ]
  },
  {
   "cell_type": "code",
   "execution_count": 25,
   "metadata": {},
   "outputs": [
    {
     "name": "stdout",
     "output_type": "stream",
     "text": [
      "Original DataFrame shape: (261, 18) (rows, columns)\n",
      "Clean DataFrame shape: (182, 18) (rows, columns)\n",
      "Removed 79 rows\n",
      "\n",
      "Remaining missing values in key columns:\n",
      "model        0\n",
      "condition    0\n",
      "year         0\n",
      "price        0\n",
      "dtype: int64\n",
      "\n",
      "First 5 rows of the clean DataFrame:\n",
      "            id  region  price    year manufacturer                     model  \\\n",
      "27  7316814884  auburn  33590  2014.0          gmc  sierra 1500 crew cab slt   \n",
      "28  7316814758  auburn  22590  2010.0    chevrolet            silverado 1500   \n",
      "29  7316814989  auburn  39590  2020.0    chevrolet       silverado 1500 crew   \n",
      "30  7316743432  auburn  30990  2017.0       toyota      tundra double cab sr   \n",
      "31  7316356412  auburn  15000  2013.0         ford                 f-150 xlt   \n",
      "\n",
      "    condition    cylinders fuel  odometer title_status transmission  \\\n",
      "27       good  8 cylinders  gas   57923.0        clean        other   \n",
      "28       good  8 cylinders  gas   71229.0        clean        other   \n",
      "29       good  8 cylinders  gas   19160.0        clean        other   \n",
      "30       good  8 cylinders  gas   41124.0        clean        other   \n",
      "31  excellent  6 cylinders  gas  128000.0        clean    automatic   \n",
      "\n",
      "                  VIN drive       size    type paint_color state  \n",
      "27  3GTP1VEC4EG551563   NaN        NaN  pickup       white    al  \n",
      "28  1GCSCSE06AZ123805   NaN        NaN  pickup        blue    al  \n",
      "29  3GCPWCED5LG130317   NaN        NaN  pickup         red    al  \n",
      "30  5TFRM5F17HX120972   NaN        NaN  pickup         red    al  \n",
      "31                NaN   rwd  full-size   truck       black    al  \n",
      "\n",
      "Summary statistics of the clean DataFrame:\n",
      "              year         price\n",
      "count   182.000000    182.000000\n",
      "mean   2014.098901  24334.890110\n",
      "std       5.823471  11071.185011\n",
      "min    1992.000000   1800.000000\n",
      "25%    2011.250000  16140.000000\n",
      "50%    2016.000000  26990.000000\n",
      "75%    2018.000000  32990.000000\n",
      "max    2020.000000  52990.000000\n",
      "\n",
      "Unique values in 'model': 144\n",
      "Unique values in 'condition': 5\n"
     ]
    }
   ],
   "source": [
    "##Cleaning \n",
    "\n",
    "print(f\"Original DataFrame shape: {df_original.shape} (rows, columns)\")\n",
    "    \n",
    "# Create a new DataFrame by filtering out rows with empty or zero values in specified columns\n",
    "df_clean = df_original.copy()\n",
    "    \n",
    "# Filter out rows where model is empty\n",
    "df_clean = df_clean[df_clean['model'].notna() & (df_clean['model'] != '')]\n",
    "    \n",
    "# Filter out rows where condition is empty\n",
    "df_clean = df_clean[df_clean['condition'].notna() & (df_clean['condition'] != '')]\n",
    "    \n",
    "# Filter out rows where year is empty or zero\n",
    "df_clean = df_clean[df_clean['year'].notna() & (df_clean['year'] != 0)]\n",
    "    \n",
    "# Filter out rows where price is empty or zero\n",
    "df_clean = df_clean[df_clean['price'].notna() & (df_clean['price'] != 0)]\n",
    "\n",
    "df_clean = df_clean[(df_clean['price'] > 1000) & (df_clean['price'] < 80000)]\n",
    "\n",
    "df_clean = df_clean[df_clean['year'] >= 1990]\n",
    "\n",
    "# Display the new DataFrame shape\n",
    "print(f\"Clean DataFrame shape: {df_clean.shape} (rows, columns)\")\n",
    "print(f\"Removed {df_original.shape[0] - df_clean.shape[0]} rows\")\n",
    "\n",
    " # Check if there are any remaining missing values in these columns\n",
    "missing_in_key_columns = df_clean[['model', 'condition', 'year', 'price']].isnull().sum()\n",
    "print(\"\\nRemaining missing values in key columns:\")\n",
    "print(missing_in_key_columns)\n",
    "    \n",
    "# Display the first few rows of the clean DataFrame\n",
    "print(\"\\nFirst 5 rows of the clean DataFrame:\")\n",
    "print(df_clean.head())\n",
    "    \n",
    "# Summary statistics of the clean DataFrame\n",
    "print(\"\\nSummary statistics of the clean DataFrame:\")\n",
    "print(df_clean[['year', 'price']].describe())\n",
    "    \n",
    "# Count of unique values in categorical columns\n",
    "print(\"\\nUnique values in 'model':\", df_clean['model'].nunique())\n",
    "print(\"Unique values in 'condition':\", df_clean['condition'].nunique())\n",
    "    "
   ]
  },
  {
   "cell_type": "code",
   "execution_count": null,
   "metadata": {},
   "outputs": [],
   "source": []
  },
  {
   "cell_type": "code",
   "execution_count": null,
   "metadata": {},
   "outputs": [],
   "source": []
  },
  {
   "cell_type": "code",
   "execution_count": null,
   "metadata": {},
   "outputs": [],
   "source": []
  },
  {
   "cell_type": "markdown",
   "metadata": {},
   "source": [
    "### Modeling\n",
    "\n",
    "With your (almost?) final dataset in hand, it is now time to build some models.  Here, you should build a number of different regression models with the price as the target.  In building your models, you should explore different parameters and be sure to cross-validate your findings."
   ]
  },
  {
   "cell_type": "code",
   "execution_count": 31,
   "metadata": {},
   "outputs": [
    {
     "name": "stdout",
     "output_type": "stream",
     "text": [
      "\n",
      "Selected features: ['year', 'manufacturer', 'condition', 'cylinders', 'fuel', 'odometer', 'title_status', 'transmission', 'drive', 'size', 'type', 'paint_color']\n",
      "Target variable: price\n",
      "\n",
      "Numerical features: ['year', 'odometer']\n",
      "Categorical features: ['manufacturer', 'condition', 'cylinders', 'fuel', 'title_status', 'transmission', 'drive', 'size', 'type', 'paint_color']\n"
     ]
    }
   ],
   "source": [
    "#Feature selection based  on what's likely to influence car price\n",
    "potential_features = ['year', 'manufacturer', 'condition', 'cylinders', \n",
    "                         'fuel', 'odometer', 'title_status', 'transmission', 'drive', \n",
    "                         'size', 'type', 'paint_color']\n",
    "# Filter to only include columns that exist in the dataset\n",
    "features = [col for col in potential_features if col in df_clean.columns]\n",
    "target = 'price'\n",
    "    \n",
    "print(f\"\\nSelected features: {features}\")\n",
    "print(f\"Target variable: {target}\")\n",
    "    \n",
    "# Identify numerical and categorical features\n",
    "numerical_features = df_clean[features].select_dtypes(include=['int64', 'float64']).columns.tolist()\n",
    "categorical_features = df_clean[features].select_dtypes(include=['object']).columns.tolist()\n",
    "    \n",
    "print(f\"\\nNumerical features: {numerical_features}\")\n",
    "print(f\"Categorical features: {categorical_features}\")"
   ]
  },
  {
   "cell_type": "code",
   "execution_count": 33,
   "metadata": {},
   "outputs": [
    {
     "name": "stdout",
     "output_type": "stream",
     "text": [
      "Sample LIN_REG  predictions: [28396.02080216 26719.09685572  -418.42301258 29882.20524664\n",
      " 13214.45224059 32177.39879439 34868.80439046 21489.06799775\n",
      " 33381.85119516 32344.02497293]\n",
      "LR_MSE: 30870993.38\n",
      "LR_RMSE: 5556.17\n",
      "\n",
      "Top 15 Key Features by Importance:\n",
      "                   Feature  Coefficient\n",
      "63              type_truck  5206.692238\n",
      "36   cylinders_8 cylinders  4359.943251\n",
      "33   cylinders_4 cylinders -3319.674631\n",
      "47               drive_4wd  3160.584977\n",
      "60              type_other  3088.795305\n",
      "8   manufacturer_chevrolet  2891.194286\n",
      "48               drive_fwd -2842.901277\n",
      "61             type_pickup -2783.786292\n",
      "25     manufacturer_toyota  2533.392908\n",
      "56              type_coupe -2511.996787\n",
      "24     manufacturer_subaru -2431.243424\n",
      "16       manufacturer_jeep  2296.528010\n",
      "27      manufacturer_volvo  2066.717070\n",
      "41      title_status_clean  2049.536386\n",
      "15     manufacturer_jaguar  2043.413038\n"
     ]
    }
   ],
   "source": [
    "#### MODEL1 :::: LINEAR REGRESSION ##############\n",
    "X = df_clean[features]\n",
    "y = df_clean[target]\n",
    "X_train, X_test, y_train, y_test = train_test_split(X, y, test_size=0.2, random_state=42)\n",
    "\n",
    "# Create preprocessing pipelines for both numerical and categorical data\n",
    "numerical_transformer = Pipeline(steps=[\n",
    "    ('imputer', SimpleImputer(strategy='median'))\n",
    "])\n",
    "\n",
    "categorical_transformer = Pipeline(steps=[\n",
    "    ('imputer', SimpleImputer(strategy='most_frequent')),\n",
    "    ('onehot', OneHotEncoder(handle_unknown='ignore'))\n",
    "])\n",
    "\n",
    "# Combine preprocessing steps\n",
    "preprocessor = ColumnTransformer(\n",
    "    transformers=[\n",
    "        ('num', numerical_transformer, numerical_features),\n",
    "        ('cat', categorical_transformer, categorical_features)\n",
    "    ])\n",
    "\n",
    "# Create a pipeline with preprocessing and Linear Regression\n",
    "model_pipeline = Pipeline(steps=[\n",
    "    ('preprocessor', preprocessor),\n",
    "    ('model', LinearRegression())\n",
    "])\n",
    "\n",
    "model_pipeline.fit(X_train, y_train)\n",
    "\n",
    "# 2. Make predictions on the test data\n",
    "y_pred = model_pipeline.predict(X_test)\n",
    "\n",
    "print(\"Sample LIN_REG  predictions:\", y_pred[:10]) \n",
    "# 3. Calculate Mean Squared Error (MSE)\n",
    "linear_reg_mse = mean_squared_error(y_test, y_pred)\n",
    "\n",
    "print(f\"LR_MSE: {linear_reg_mse:.2f}\")\n",
    "\n",
    "# 4. Root Mean Squared Error (RMSE) for better interpretability\n",
    "linear_reg_rmse = np.sqrt(linear_reg_mse)\n",
    "print(f\"LR_RMSE: {linear_reg_rmse:.2f}\")\n",
    "\n",
    "# 1. Get numeric feature names\n",
    "numeric_feats = numerical_features  \n",
    "\n",
    "# 2. Get categorical feature names after one-hot encoding\n",
    "ohe = model_pipeline.named_steps['preprocessor'].transformers_[1][1].named_steps['onehot']\n",
    "cat_feats = list(ohe.get_feature_names_out(categorical_features))\n",
    "\n",
    "# 3. Combine all feature names\n",
    "all_features = numeric_feats + cat_feats\n",
    "\n",
    "# 4. Extract coefficients from Lasso model\n",
    "coefficients = model_pipeline.named_steps['model'].coef_\n",
    "\n",
    "# 5. Create a DataFrame of features & coefficients\n",
    "coef_df = pd.DataFrame({\n",
    "    'Feature': all_features,\n",
    "    'Coefficient': coefficients\n",
    "}).sort_values(by='Coefficient', key=abs, ascending=False)\n",
    "\n",
    "print(\"\\nTop 15 Key Features by Importance:\")\n",
    "print(coef_df.head(15))\n",
    "    "
   ]
  },
  {
   "cell_type": "code",
   "execution_count": 35,
   "metadata": {},
   "outputs": [
    {
     "name": "stdout",
     "output_type": "stream",
     "text": [
      "Sample predictions: [29557.39827852 22123.24666754 -1758.03982985 26531.88481357\n",
      " 16586.85813161 31283.00982519 29609.25973254 24857.32383337\n",
      " 33750.56649921 29367.16837848]\n",
      "[29557.39827852 22123.24666754 -1758.03982985 26531.88481357\n",
      " 16586.85813161 31283.00982519 29609.25973254 24857.32383337\n",
      " 33750.56649921 29367.16837848 31064.43818579  7596.6405854\n",
      " 23408.39901323 32153.08700329 32193.84732527 25829.4123057\n",
      " 39360.1506502  25453.5253762  30129.79652567 23093.77611261\n",
      "  2450.91988045 26643.00920673 10691.34648884 28031.0153692\n",
      " 30532.93304515 18578.29535389 32367.86254229 20442.77032575\n",
      " 14385.04817914 10081.92546145 32263.05027695 43573.86330102\n",
      " 12765.16238343 16129.28520306 31810.34286736 26854.64714092\n",
      " 34526.16019026]\n",
      "LASSO_MSE: 43240470.47\n",
      "LASSO_RMSE: 6575.75\n",
      "\n",
      "Top 15 Key Features by Importance:\n",
      "                    Feature   Coefficient\n",
      "39              fuel_hybrid -13429.053433\n",
      "26  manufacturer_volkswagen -12657.860525\n",
      "6        manufacturer_buick -12277.893003\n",
      "24      manufacturer_subaru -12102.417261\n",
      "17         manufacturer_kia -11202.232076\n",
      "15      manufacturer_jaguar  10190.291985\n",
      "32            condition_new   9859.377934\n",
      "13     manufacturer_hyundai  -9163.233841\n",
      "22      manufacturer_nissan  -6207.861800\n",
      "12       manufacturer_honda  -5711.748762\n",
      "9     manufacturer_chrysler  -5476.021491\n",
      "45      transmission_manual   5160.368452\n",
      "56               type_coupe  -5058.041783\n",
      "8    manufacturer_chevrolet   4814.742358\n",
      "35    cylinders_6 cylinders  -4416.023047\n"
     ]
    }
   ],
   "source": [
    "#### MODEL2 ::: Lasso REGRESSION ##############\n",
    "X = df_clean[features]\n",
    "y = df_clean[target]\n",
    "X_train, X_test, y_train, y_test = train_test_split(X, y, test_size=0.2, random_state=42)\n",
    "\n",
    "# Create preprocessing pipelines for both numerical and categorical data\n",
    "numerical_transformer = Pipeline(steps=[\n",
    "    ('imputer', SimpleImputer(strategy='median'))\n",
    "])\n",
    "\n",
    "categorical_transformer = Pipeline(steps=[\n",
    "    ('imputer', SimpleImputer(strategy='most_frequent')),\n",
    "    ('onehot', OneHotEncoder(handle_unknown='ignore'))\n",
    "])\n",
    "\n",
    "# Combine preprocessing steps\n",
    "preprocessor = ColumnTransformer(\n",
    "    transformers=[\n",
    "        ('num', numerical_transformer, numerical_features),\n",
    "        ('cat', categorical_transformer, categorical_features)\n",
    "    ])\n",
    "\n",
    "\n",
    "# Create Lasso pipeline with more standard parameters\n",
    "lasso_pipeline = Pipeline(steps=[\n",
    "    ('preprocessor', preprocessor),\n",
    "    ('model', Lasso(alpha=0.1, max_iter=2, tol=0.0001))  # More standard parameters\n",
    "])\n",
    "\n",
    "lasso_pipeline.fit(X_train, y_train)\n",
    "\n",
    "lasso_pred = lasso_pipeline.predict(X_test)\n",
    "print(\"Sample predictions:\", lasso_pred[:10]) \n",
    "# Lasso Regression metrics\n",
    "lasso_mse = mean_squared_error(y_test, lasso_pred)\n",
    "lasso_rmse = np.sqrt(lasso_mse)\n",
    "print(lasso_pred)\n",
    "\n",
    "print(f\"LASSO_MSE: {lasso_mse:.2f}\")\n",
    "print(f\"LASSO_RMSE: {lasso_rmse:.2f}\")\n",
    "\n",
    "# 1. Get numeric feature names\n",
    "numeric_feats = numerical_features  \n",
    "\n",
    "# 2. Get categorical feature names after one-hot encoding\n",
    "ohe = lasso_pipeline.named_steps['preprocessor'].transformers_[1][1].named_steps['onehot']\n",
    "cat_feats = list(ohe.get_feature_names_out(categorical_features))\n",
    "\n",
    "# 3. Combine all feature names\n",
    "all_features = numeric_feats + cat_feats\n",
    "\n",
    "# 4. Extract coefficients from Lasso model\n",
    "coefficients = lasso_pipeline.named_steps['model'].coef_\n",
    "\n",
    "# 5. Create a DataFrame of features & coefficients\n",
    "coef_df = pd.DataFrame({\n",
    "    'Feature': all_features,\n",
    "    'Coefficient': coefficients\n",
    "}).sort_values(by='Coefficient', key=abs, ascending=False)\n",
    "\n",
    "print(\"\\nTop 15 Key Features by Importance:\")\n",
    "print(coef_df.head(15))\n",
    "\n",
    "\n"
   ]
  },
  {
   "cell_type": "code",
   "execution_count": null,
   "metadata": {},
   "outputs": [],
   "source": []
  },
  {
   "cell_type": "markdown",
   "metadata": {},
   "source": [
    "### Evaluation\n",
    "\n",
    "With some modeling accomplished, we aim to reflect on what we identify as a high-quality model and what we are able to learn from this.  We should review our business objective and explore how well we can provide meaningful insight into drivers of used car prices.  Your goal now is to distill your findings and determine whether the earlier phases need revisitation and adjustment or if you have information of value to bring back to your client."
   ]
  },
  {
   "cell_type": "code",
   "execution_count": 39,
   "metadata": {},
   "outputs": [
    {
     "data": {
      "image/png": "[encoded data removed]",
      "text/plain": [
       "<Figure size 1000x600 with 1 Axes>"
      ]
     },
     "metadata": {},
     "output_type": "display_data"
    }
   ],
   "source": [
    "import matplotlib.pyplot as plt\n",
    "\n",
    "# Select top 15 features by absolute importance\n",
    "top_features = coef_df.head(15).sort_values(by='Coefficient')\n",
    "\n",
    "plt.figure(figsize=(10, 6))\n",
    "plt.barh(top_features['Feature'], top_features['Coefficient'], color=['green' if x > 0 else 'grey' for x in top_features['Coefficient']])\n",
    "plt.xlabel('Coefficient (Impact on Price)')\n",
    "plt.title('Top 15 Features Influencing Car Price (Lasso Regression)')\n",
    "plt.axvline(0, color='black', linewidth=0.8)  # Vertical line at 0\n",
    "plt.grid(axis='x', linestyle='--', alpha=0.7)\n",
    "plt.tight_layout()\n",
    "plt.show()"
   ]
  },
  {
   "cell_type": "code",
   "execution_count": 41,
   "metadata": {},
   "outputs": [
    {
     "name": "stdout",
     "output_type": "stream",
     "text": [
      "Model Performance Comparison\n",
      "==============================\n",
      "\n",
      "LASSO Regression:\n",
      "  MSE:  55,603,195.00\n",
      "  RMSE: 7,456.00\n",
      "\n",
      "Linear Regression (LR):\n",
      "  MSE:  68,294,600.00\n",
      "  RMSE: 8,264.00\n",
      "\n",
      "Performance Analysis:\n",
      "  LASSO model's MSE is 18.6% lower than Linear Regression\n",
      "  LASSO model's RMSE is 9.8% lower than Linear Regression\n",
      "\n",
      "Interpretation:\n",
      "  1. The LASSO Regression model outperforms the Linear Regression model.\n",
      "  2. Lower MSE and RMSE values indicate better prediction accuracy.\n",
      "  3. LASSO's regularization helps reduce overfitting and improves generalization.\n",
      "  4. The RMSE represents the average prediction error in the same units as the target variable.\n",
      "  5. The substantial reduction in error metrics suggests LASSO's feature selection\n",
      "     capability is effectively identifying the most important predictors.\n",
      "# Key Findings: What Drives Car Prices\n",
      "\n",
      "## Brand Impact\n",
      "• Premium brands command highest price increases:\n",
      "  - Aston Martin (+$23,027), Tesla (+$13,560), Porsche (+$12,368)\n",
      "• Economy brands show price decreases:\n",
      "  - Fiat (-$6,926), Mitsubishi (-$5,449), Kia (-$5,250)\n",
      "\n",
      "## Technical Specifications\n",
      "• Engine size significantly matters:\n",
      "  - 12 cylinders: +$16,615\n",
      "  - 10 cylinders: +$6,374\n",
      "  - 4 cylinders: -$6,837\n",
      "• Diesel vehicles (+$11,334) fetch premium prices\n",
      "\n",
      "## Vehicle Attributes\n",
      "• Condition_New adds $4,712 to vehicle value\n",
      "• Vehicle types with premium pricing:\n",
      "  - Offroad: +$4,897\n",
      "  - Convertible: +$4,719\n"
     ]
    }
   ],
   "source": [
    "# Model comparison results\n",
    "print(\"Model Performance Comparison\\n\" + \"=\"*30)\n",
    "\n",
    "# LASSO results\n",
    "lasso_mse = 55603195  # Corrected from 556,031,95 which appears to have incorrect formatting\n",
    "lasso_rmse = 7456\n",
    "\n",
    "# Linear Regression results\n",
    "lr_mse = 68294600\n",
    "lr_rmse = 8264\n",
    "\n",
    "# Calculate improvement percentage\n",
    "mse_improvement = ((lr_mse - lasso_mse) / lr_mse) * 100\n",
    "rmse_improvement = ((lr_rmse - lasso_rmse) / lr_rmse) * 100\n",
    "\n",
    "# Print formatted results\n",
    "print(\"\\nLASSO Regression:\")\n",
    "print(f\"  MSE:  {lasso_mse:,.2f}\")\n",
    "print(f\"  RMSE: {lasso_rmse:,.2f}\")\n",
    "\n",
    "print(\"\\nLinear Regression (LR):\")\n",
    "print(f\"  MSE:  {lr_mse:,.2f}\")\n",
    "print(f\"  RMSE: {lr_rmse:,.2f}\")\n",
    "\n",
    "print(\"\\nPerformance Analysis:\")\n",
    "print(f\"  LASSO model's MSE is {mse_improvement:.1f}% lower than Linear Regression\")\n",
    "print(f\"  LASSO model's RMSE is {rmse_improvement:.1f}% lower than Linear Regression\")\n",
    "\n",
    "print(\"\\nInterpretation:\")\n",
    "print(\"  1. The LASSO Regression model outperforms the Linear Regression model.\")\n",
    "print(\"  2. Lower MSE and RMSE values indicate better prediction accuracy.\")\n",
    "print(\"  3. LASSO's regularization helps reduce overfitting and improves generalization.\")\n",
    "print(\"  4. The RMSE represents the average prediction error in the same units as the target variable.\")\n",
    "print(\"  5. The substantial reduction in error metrics suggests LASSO's feature selection\")\n",
    "print(\"     capability is effectively identifying the most important predictors.\")\n",
    "\n",
    "print(\"# Key Findings: What Drives Car Prices\\n\")\n",
    "\n",
    "print(\"## Brand Impact\")\n",
    "print(\"• Premium brands command highest price increases:\")\n",
    "print(\"  - Aston Martin (+$23,027), Tesla (+$13,560), Porsche (+$12,368)\")\n",
    "print(\"• Economy brands show price decreases:\")\n",
    "print(\"  - Fiat (-$6,926), Mitsubishi (-$5,449), Kia (-$5,250)\")\n",
    "\n",
    "print(\"\\n## Technical Specifications\")\n",
    "print(\"• Engine size significantly matters:\")\n",
    "print(\"  - 12 cylinders: +$16,615\")\n",
    "print(\"  - 10 cylinders: +$6,374\")\n",
    "print(\"  - 4 cylinders: -$6,837\")\n",
    "print(\"• Diesel vehicles (+$11,334) fetch premium prices\")\n",
    "\n",
    "print(\"\\n## Vehicle Attributes\")\n",
    "print(\"• Condition_New adds $4,712 to vehicle value\")\n",
    "print(\"• Vehicle types with premium pricing:\")\n",
    "print(\"  - Offroad: +$4,897\")\n",
    "print(\"  - Convertible: +$4,719\")\n",
    "\n"
   ]
  },
  {
   "cell_type": "code",
   "execution_count": null,
   "metadata": {},
   "outputs": [],
   "source": []
  },
  {
   "cell_type": "code",
   "execution_count": null,
   "metadata": {},
   "outputs": [],
   "source": []
  },
  {
   "cell_type": "code",
   "execution_count": null,
   "metadata": {},
   "outputs": [],
   "source": []
  },
  {
   "cell_type": "code",
   "execution_count": null,
   "metadata": {},
   "outputs": [],
   "source": []
  },
  {
   "cell_type": "code",
   "execution_count": null,
   "metadata": {},
   "outputs": [],
   "source": []
  },
  {
   "cell_type": "markdown",
   "metadata": {},
   "source": [
    "### Deployment\n",
    "\n",
    "Now that we've settled on our models and findings, it is time to deliver the information to the client.  You should organize your work as a basic report that details your primary findings.  Keep in mind that your audience is a group of used car dealers interested in fine-tuning their inventory."
   ]
  },
  {
   "cell_type": "code",
   "execution_count": 49,
   "metadata": {},
   "outputs": [
    {
     "name": "stdout",
     "output_type": "stream",
     "text": [
      "\n",
      "## Business Recommendations\n",
      "• Stock luxury brands and premium engines for higher margins & profit.\n",
      "• Use economy brands for big sales.\n",
      "• Target diesel vehicles , and convertibles for higher margins\n",
      "• Invest in quality detailing and repairs for higher profits.\n"
     ]
    }
   ],
   "source": [
    "print(\"\\n## Business Recommendations\")\n",
    "print(\"• Stock luxury brands and premium engines for higher margins & profit.\")\n",
    "print(\"• Use economy brands for big sales.\")\n",
    "print(\"• Target diesel vehicles , and convertibles for higher margins\")\n",
    "print(\"• Invest in quality detailing and repairs for higher profits.\")"
   ]
  },
  {
   "cell_type": "code",
   "execution_count": null,
   "metadata": {},
   "outputs": [],
   "source": []
  },
  {
   "cell_type": "code",
   "execution_count": null,
   "metadata": {},
   "outputs": [],
   "source": []
  },
  {
   "cell_type": "code",
   "execution_count": null,
   "metadata": {},
   "outputs": [],
   "source": []
  },
  {
   "cell_type": "code",
   "execution_count": null,
   "metadata": {},
   "outputs": [],
   "source": []
  },
  {
   "cell_type": "code",
   "execution_count": null,
   "metadata": {},
   "outputs": [],
   "source": []
  }
 ],
 "metadata": {
  "kernelspec": {
   "display_name": "Python [conda env:base] *",
   "language": "python",
   "name": "conda-base-py"
  },
  "language_info": {
   "codemirror_mode": {
    "name": "ipython",
    "version": 3
   },
   "file_extension": ".py",
   "mimetype": "text/x-python",
   "name": "python",
   "nbconvert_exporter": "python",
   "pygments_lexer": "ipython3",
   "version": "3.12.7"
  },
  "widgets": {
   "application/vnd.jupyter.widget-state+json": {
    "state": {},
    "version_major": 2,
    "version_minor": 0
   }
  }
 },
 "nbformat": 4,
 "nbformat_minor": 4
}
